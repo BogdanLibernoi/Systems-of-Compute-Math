{
 "cells": [
  {
   "cell_type": "code",
   "execution_count": 72,
   "metadata": {},
   "outputs": [],
   "source": [
    "import numpy as np\n",
    "from numpy import random\n",
    "from scipy import linalg\n",
    "import matplotlib.pyplot as plt\n",
    "%matplotlib inline"
   ]
  },
  {
   "cell_type": "markdown",
   "metadata": {},
   "source": [
    "# 16. Регуляризация А.Н. Тихонова"
   ]
  },
  {
   "cell_type": "markdown",
   "metadata": {},
   "source": [
    "Система $(A^{\\rm T} A + \\alpha E)x = A^{\\rm T} b$ называется регуляризованной по отношению к системе $Ax = b$. Параметр $\\alpha$ называется параметром регуляризации. Метод регуляризации А.Н.\\,Тихонова заключается в выборе последовательности $\\alpha_k \\to 0$ (например, геометрической прогрессии) и решении регуляризованных систем $(A^{\\rm T}A + \\alpha_k E)x = A^{\\rm T} b$ для конечного числа значений $\\alpha_k$, и выборе из всех полученных решений того, при котором норма невязки для исходной системы минимальна.\n",
    "\n",
    "Написать функцию\n",
    "\n",
    "    x0, discr0, alpha0, x, discr = tikhonov(A, b, alpha),\n",
    "в которой A и b – матрица и левая часть исходной системы, alpha – вектор, содержащий набор параметров регуляризации, x – матрица, по столбцам которой записаны регуляризованные решения для соответсвующего значения параметра регуляризации, discr – вектор полученных таким образом невязок, x0 – регуляризованное решение (из найденных) с минимальной нормой невязки, discr0, alpha0 – соответствующие ему значения нормы невязки и параметра регуляризации.\n",
    "\n",
    "Провести эксперимент с плохообусловленными системами из № 8.\n",
    "\n",
    "Построить график зависимости ошибки и нормы невязки от порядка системы.\n",
    "\n",
    "Для конкретной системы построить графики зависимости ошибки и нормы невязки от параметра alpha.\n",
    "\n",
    "Интуиция: Система $(A^{\\rm T}A+αE)x=A^{\\rm T}b$ при маленьком $α\\ge 0$ (например, $α=0$) может быть вырожденной или плохо обусловленной, что приводит к большим ошибкам при численном решении системы. При большом $α$ система хорошо обусловлена, но может слишком сильно отличаться от исходной системы $Ax=b$. Нужно найти компромисс, т.е. «оптимальное» значение $α$: не очень большое и не очень маленькое."
   ]
  },
  {
   "cell_type": "markdown",
   "metadata": {},
   "source": [
    "### Напишем функцию"
   ]
  },
  {
   "cell_type": "markdown",
   "metadata": {},
   "source": [
    "Пусть функция будет возвращать на один параметр больше - normDiscr - вектор нормализованных невязок, для удобства в будущем"
   ]
  },
  {
   "cell_type": "code",
   "execution_count": 73,
   "metadata": {},
   "outputs": [],
   "source": [
    "def tikhonov(A, b, alpha):\n",
    "    E = np.eye(A.shape[0])\n",
    "    At=np.transpose(A)\n",
    "    \n",
    "    x = []\n",
    "    discr = np.array([])\n",
    "    normDiscr = np.array([])\n",
    "\n",
    "    for i in range(len(alpha)):\n",
    "        xNew = linalg.solve(At@A + alpha[i]*E, At@b)\n",
    "        if i == 0: \n",
    "            x = xNew\n",
    "        else:\n",
    "            x = np.hstack((x,xNew))\n",
    "        discr = np.append(discr, A@xNew - b)\n",
    "        normDiscr = np.append(normDiscr, linalg.norm(A@xNew - b))\n",
    "        \n",
    "    discr0 = min(normDiscr)\n",
    "    x0 = x[ :, list(normDiscr).index(discr0)]\n",
    "    alpha0 = alpha[list(normDiscr).index(discr0)]\n",
    "    return x0, discr0, alpha0, x, discr, normDiscr"
   ]
  },
  {
   "cell_type": "markdown",
   "metadata": {},
   "source": [
    "### Проведём эксперимент с плохообусловленными матрицами из №8"
   ]
  },
  {
   "cell_type": "markdown",
   "metadata": {},
   "source": [
    "Для начала создадим эти самые плохообусловленные матрицы  $A=LU$, где $L$, $U$ – случайные нижняя треугольная и верхняя треугольная матрицы и массивы их порядков"
   ]
  },
  {
   "cell_type": "code",
   "execution_count": 74,
   "metadata": {},
   "outputs": [],
   "source": [
    "A = [] \n",
    "B = [] \n",
    "aShapes = [] \n",
    "aShapesErr = np.array([])\n",
    "\n",
    "for i in range(1, 14):\n",
    "    aNew = np.tril(np.random.rand(i,i))@np.triu(np.random.rand(i,i))\n",
    "    A.append(aNew)\n",
    "    B.append(np.random.rand(i,1))\n",
    "    aShapes = np.append(aShapes ,np.full((300,),int(aNew.shape[0])))\n",
    "    aShapesErr = np.append(aShapesErr, np.full((aNew.shape[0]*300,),aNew.shape[0]))"
   ]
  },
  {
   "cell_type": "markdown",
   "metadata": {},
   "source": [
    "Далее напишем и заполним при помощи ранее написанной нами функции массивы невязок(ошибок) и нормализованных невязок"
   ]
  },
  {
   "cell_type": "code",
   "execution_count": 75,
   "metadata": {
    "scrolled": false
   },
   "outputs": [],
   "source": [
    "alpha = np.linspace(10**-6, 10**-4, 300)\n",
    "errorArr = np.array([])\n",
    "normDiscrArr = np.array([])\n",
    "\n",
    "for i in range(0, len(A)):\n",
    "    x0, discr0, alpha0, x, discr, normDiscr = tikhonov(A[i], B[i], alpha)\n",
    "    errorArr = np.append(errorArr, discr)\n",
    "    normDiscrArr = np.append(normDiscrArr, normDiscr)"
   ]
  },
  {
   "cell_type": "markdown",
   "metadata": {},
   "source": [
    "### Построим графики зависимости ошибки и нормы невязки от порядка системы."
   ]
  },
  {
   "cell_type": "code",
   "execution_count": 76,
   "metadata": {
    "scrolled": true
   },
   "outputs": [
    {
     "name": "stdout",
     "output_type": "stream",
     "text": [
      "\n",
      " Графики зависимости нормы невязки и ошибки от порядка системы\n"
     ]
    },
    {
     "data": {
      "image/png": "[encoded data removed]",
      "text/plain": [
       "<Figure size 936x360 with 2 Axes>"
      ]
     },
     "metadata": {
      "needs_background": "light"
     },
     "output_type": "display_data"
    }
   ],
   "source": [
    "fig, (plt1, plt2) = plt.subplots(\n",
    "    nrows=1, ncols=2,\n",
    "    figsize=(13, 5)\n",
    ")\n",
    "\n",
    "print(\"\\n Графики зависимости нормы невязки и ошибки от порядка системы\")\n",
    "\n",
    "plt1.scatter(x=normDiscrArr, y=aShapes, marker='o', c='0', edgecolor='b')\n",
    "plt1.set_xlabel(\"Норма невязки\")\n",
    "plt1.set_ylabel(\"Порядок системы\")\n",
    "\n",
    "plt2.scatter(x=errorArr, y=aShapesErr, marker='o', c='r', edgecolor='b')\n",
    "plt2.set_xlabel(\"Ошибка\")\n",
    "plt2.set_ylabel(\"Порядок системы\")\n",
    "plt.show()\n",
    "pass"
   ]
  },
  {
   "cell_type": "markdown",
   "metadata": {},
   "source": [
    "### Напишем конкретную случайную систему и построим графики зависимости ошибки и нормы невязки от параметра alpha."
   ]
  },
  {
   "cell_type": "code",
   "execution_count": null,
   "metadata": {},
   "outputs": [],
   "source": [
    "A = np.random.rand(14,14)\n",
    "b = np.random.rand(14,1)\n",
    "x0, discr0, alpha0, x, discr, normDiscrArr = tikhonov(A, b, alpha)\n",
    "#print(len(discr))\n",
    "#print(alpha.shape[0])\n",
    "newAlpha =  np.linspace(0, 1, alpha.shape[0]*14)\n",
    "for i in range(0, alpha.shape[0]*14):\n",
    "  newAlpha[i] = alpha[i//14]"
   ]
  },
  {
   "cell_type": "code",
   "execution_count": null,
   "metadata": {},
   "outputs": [],
   "source": [
    "fig, (plt1, plt2) = plt.subplots(\n",
    "    nrows=1, ncols=2,\n",
    "    figsize=(13, 5)\n",
    ")\n",
    "\n",
    "print(\"\\n Графики зависимости ошибки и нормы невязки от параметра alpha конкретной случайной системы\")\n",
    "\n",
    "plt1.scatter(x=newAlpha, y=discr, marker='o', c='r', edgecolor='b')\n",
    "plt1.set_xlabel(\"alpha\")\n",
    "plt1.set_ylabel(\"Ошибка\")\n",
    "\n",
    "plt2.scatter(x=alpha, y=normDiscrArr, marker='o', c='r', edgecolor='b')\n",
    "plt2.set_xlabel(\"alpha\")\n",
    "plt2.set_ylabel(\"Норма невязки\")\n",
    "\n",
    "plt.show()\n",
    "pass"
   ]
  },
  {
   "cell_type": "markdown",
   "metadata": {},
   "source": [
    "### Вывод:"
   ]
  },
  {
   "cell_type": "markdown",
   "metadata": {},
   "source": [
    "С возрастанием системы кол-во ошибок и норм невязок увеличивается. В случае с alpha ситуация повторяется"
   ]
  }
 ],
 "metadata": {
  "kernelspec": {
   "display_name": "Python(py3env)",
   "language": "python",
   "name": "py3env"
  },
  "language_info": {
   "codemirror_mode": {
    "name": "ipython",
    "version": 3
   },
   "file_extension": ".py",
   "mimetype": "text/x-python",
   "name": "python",
   "nbconvert_exporter": "python",
   "pygments_lexer": "ipython3",
   "version": "3.9.2"
  }
 },
 "nbformat": 4,
 "nbformat_minor": 4
}
